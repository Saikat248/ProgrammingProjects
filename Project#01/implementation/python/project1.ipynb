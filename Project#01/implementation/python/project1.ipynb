{
 "cells": [
  {
   "cell_type": "code",
   "execution_count": 1,
   "metadata": {},
   "outputs": [],
   "source": [
    "import numpy as np\n",
    "from Molecule import Molecule"
   ]
  },
  {
   "cell_type": "code",
   "execution_count": 2,
   "metadata": {},
   "outputs": [
    {
     "name": "stdout",
     "output_type": "stream",
     "text": [
      "Number of Atoms : 7\n",
      "Coordinate File: \n",
      "6    0.000000    0.000000    0.000000\n",
      "6    0.000000    0.000000    2.845112\n",
      "8    1.899116    0.000000    4.139063\n",
      "1   -1.894048    0.000000    3.747689\n",
      "1    1.942501    0.000000   -0.701146\n",
      "1   -1.007295   -1.669972   -0.705917\n",
      "1   -1.007295    1.669972   -0.705917\n"
     ]
    }
   ],
   "source": [
    "mol = Molecule('geom.dat')\n",
    "mol.print_geom()"
   ]
  },
  {
   "attachments": {},
   "cell_type": "markdown",
   "metadata": {},
   "source": [
    "# Calculate Bond Length\n"
   ]
  },
  {
   "cell_type": "code",
   "execution_count": 3,
   "metadata": {},
   "outputs": [
    {
     "name": "stdout",
     "output_type": "stream",
     "text": [
      "Atom 1    Atom 0    2.84511\n",
      "Atom 2    Atom 0    4.55395\n",
      "Atom 2    Atom 1    2.29803\n",
      "Atom 3    Atom 0    4.19912\n",
      "Atom 3    Atom 1    2.09811\n",
      "Atom 3    Atom 2    3.81330\n",
      "Atom 4    Atom 0    2.06517\n",
      "Atom 4    Atom 1    4.04342\n",
      "Atom 4    Atom 2    4.84040\n",
      "Atom 4    Atom 3    5.87463\n",
      "Atom 5    Atom 0    2.07407\n",
      "Atom 5    Atom 1    4.05133\n",
      "Atom 5    Atom 2    5.89151\n",
      "Atom 5    Atom 3    4.83836\n",
      "Atom 5    Atom 4    3.38971\n",
      "Atom 6    Atom 0    2.07407\n",
      "Atom 6    Atom 1    4.05133\n",
      "Atom 6    Atom 2    5.89151\n",
      "Atom 6    Atom 3    4.83836\n",
      "Atom 6    Atom 4    3.38971\n",
      "Atom 6    Atom 5    3.33994\n"
     ]
    }
   ],
   "source": [
    "for i in range(len(mol.coords)):\n",
    "    for j in range(0, i):\n",
    "        print(f'Atom {i}    Atom {j} {(mol.bond(i, j)):10.5f}')"
   ]
  },
  {
   "attachments": {},
   "cell_type": "markdown",
   "metadata": {},
   "source": [
    "# Bond Angles\n",
    "The angle, $\\theta_{ijk}$, between atoms i-j-k, where j is the central atom is given by:\n",
    "\n",
    "$cos\\theta_{ijk} = e_{ji} e_{jk}$\n",
    "\n",
    "where  $e_{ij}$ are unit vectors between the atoms, e.g.,\n",
    "\n",
    "$e_{ij}^x = -(x_i - x_j)/R_{ij}, e_{ij}^y = -(y_i - y_j)/R_{ij}, e_{ij}^z = -(z_i - z_j)/R_{ij}$"
   ]
  },
  {
   "cell_type": "code",
   "execution_count": 4,
   "metadata": {},
   "outputs": [
    {
     "name": "stdout",
     "output_type": "stream",
     "text": [
      "2- 1, 0, 124.268308\n",
      "3- 1, 0, 115.479341\n",
      "3- 2, 1, 28.377448\n",
      "5- 4, 0, 35.109529\n",
      "6- 4, 0, 35.109529\n",
      "6- 5, 0, 36.373677\n",
      "6- 5, 4, 60.484476\n"
     ]
    }
   ],
   "source": [
    "for i in range(len(mol.coords)):\n",
    "    for j in range(0, i):\n",
    "        for k in range(0, j):\n",
    "            if (mol.bond(i, j) < 4.0 and mol.bond(j, k) < 4.0):\n",
    "                print(f'{i}- {j}, {k}, {mol.bond_angle(i, j, k):6f}') \n"
   ]
  },
  {
   "attachments": {},
   "cell_type": "markdown",
   "metadata": {},
   "source": [
    "# Dihderal Angle "
   ]
  },
  {
   "cell_type": "code",
   "execution_count": 5,
   "metadata": {},
   "outputs": [
    {
     "name": "stdout",
     "output_type": "stream",
     "text": [
      " 3- 2- 1- 0 180.000000\n",
      " 6- 5- 4- 0  36.366799\n"
     ]
    }
   ],
   "source": [
    "for i in range(mol.natom):\n",
    "    for j in range(i):\n",
    "        for k in range(j):\n",
    "            for l in range(k):\n",
    "                if mol.bond(i, j) < 4.0 and mol.bond(j, k) < 4.0 and mol.bond(k, l) < 4.0:\n",
    "                    print(f\"{i:2d}-{j:2d}-{k:2d}-{l:2d} {mol.dihedral_angle(i, j, k, l):10.6f}\")\n"
   ]
  },
  {
   "attachments": {},
   "cell_type": "markdown",
   "metadata": {},
   "source": [
    "# Out of Plane Angle\n",
    "\n",
    "### Calculate all possible out-of-plane angles. For example, the angle $θ_{ijkl}$ for atom i out of the plane containing atoms j-k-l (with k as the central atom, connected to i)"
   ]
  },
  {
   "cell_type": "code",
   "execution_count": 11,
   "metadata": {},
   "outputs": [
    {
     "name": "stdout",
     "output_type": "stream",
     "text": [
      "17.85468937184374\n"
     ]
    }
   ],
   "source": [
    "def unit_vector(i, j):\n",
    "    # i, j are numpy array\n",
    "    vec = j - i \n",
    "    return vec/np.linalg.norm(vec)\n",
    "\n",
    "\n",
    "\n",
    "\n",
    "def oop(i, j, k ,l):\n",
    "    # i, j, k, l are numpy array of four atoms \n",
    "\n",
    "    res = np.cross(unit_vector(k, j), unit_vector(k, l)).dot(unit_vector(k, i))\n",
    "    res = res/(np.sin(np.degrees(mol.bond_angle(j, k, l))))\n",
    "    # assert(np.abs(res) < 1 + 1e-7)\n",
    "    # res = np.sign(res) if np.abs(res) > 1 else res\n",
    "    res = np.clip(res, -1.0, 1.0)\n",
    "\n",
    "    res = np.arcsin(res) \n",
    "\n",
    "    return (np.degrees(res))\n",
    "\n",
    "i = np.array([0.000000000000,     0.000000000000,     0.000000000000])\n",
    "j = np.array([-1.007295466862,     1.669971842687,    -0.705916966833])\n",
    "k = np.array([1.942500819960,     0.000000000000,    -0.701145981971])\n",
    "l = np.array([-1.007295466862,    -1.669971842687,    -0.705916966833])\n",
    "\n",
    "print(oop(i, j, k ,l))"
   ]
  },
  {
   "cell_type": "raw",
   "metadata": {},
   "source": [
    "for i in range(len(mol.coords)):\n",
    "    for k in range(len(mol.coords)):\n",
    "        for j in range(len(mol.coords)):\n",
    "            for l in range(j):\n",
    "                if (i!=j and i!=k and i!=l and j!=k and k!=l and bond_distance(np.array(coords[i]), np.array(coords[k]))<4.0 and bond_distance(np.array(coords[k]),np.array(coords[j]))<4.0 and bond_distance(np.array(coords[k]),np.array(coords[l]))<4.0):\n",
    "                    print(i, j, k ,l, oop(np.array(coords[i]), np.array(coords[j]), np.array(coords[k]), np.array(coords[l])))\n",
    "                "
   ]
  },
  {
   "attachments": {},
   "cell_type": "markdown",
   "metadata": {},
   "source": [
    "# Center 0f mass Translation "
   ]
  },
  {
   "cell_type": "code",
   "execution_count": 6,
   "metadata": {},
   "outputs": [
    {
     "name": "stdout",
     "output_type": "stream",
     "text": [
      "Molecular Mass of the Molecule is 44.026215\n",
      "Molecular Center of mass:   0.644949    0.000000    2.316638\n"
     ]
    }
   ],
   "source": [
    "masses = {6:12.0000000, 8:15.994914619, 1:1.00782503223}\n",
    "\n",
    "# Calculate Molecular Mass\n",
    "M = 0\n",
    "for i in range(len(mol.atoms)):\n",
    "    M += masses[int(mol.atoms[i])]\n",
    "\n",
    "print(f'Molecular Mass of the Molecule is {M:6f}')\n",
    "\n",
    "\n",
    "xcm = 0\n",
    "ycm = 0\n",
    "zcm = 0\n",
    "\n",
    "for i, j in zip(mol.atoms, mol.coords):\n",
    "    # print(i, masses[int(i)]) \n",
    "    xcm += masses[int(i)]*j[0]\n",
    "    ycm += masses[int(i)]*j[1]\n",
    "    zcm += masses[int(i)]*j[2]\n",
    "\n",
    "xcm = xcm/M\n",
    "ycm = ycm/M\n",
    "zcm = zcm/M \n",
    "\n",
    "\n",
    "\n",
    "print(f'Molecular Center of mass:   {xcm:6f}    {ycm:6f}    {zcm:6f}')\n",
    "\n",
    "\n"
   ]
  },
  {
   "cell_type": "code",
   "execution_count": 7,
   "metadata": {},
   "outputs": [
    {
     "name": "stdout",
     "output_type": "stream",
     "text": [
      "[[-0.64494925  0.         -2.3166379 ]\n",
      " [-0.64494925  0.          0.52847423]\n",
      " [ 1.25416671  0.          1.82242463]\n",
      " [-2.53899756  0.          1.43105077]\n",
      " [ 1.29755157  0.         -3.01778388]\n",
      " [-1.65224472 -1.66997184 -3.02255487]\n",
      " [-1.65224472  1.66997184 -3.02255487]]\n"
     ]
    }
   ],
   "source": [
    "mol.translate(-xcm, -ycm, -zcm)\n",
    "print(mol.coords)"
   ]
  },
  {
   "attachments": {},
   "cell_type": "markdown",
   "metadata": {},
   "source": [
    "# Principal Moments of Inertia "
   ]
  },
  {
   "cell_type": "code",
   "execution_count": 12,
   "metadata": {},
   "outputs": [
    {
     "name": "stdout",
     "output_type": "stream",
     "text": [
      "Moment of Inertia tensor amu bohr^2\n",
      "[[156.15409142   0.         -52.85558333]\n",
      " [  0.         199.37112652   0.        ]\n",
      " [-52.85558333   0.          54.4595489 ]]\n",
      "Principle moments of inertia amu* bohr^2\n",
      "[ 31.96407898 178.64956134 199.37112652]\n",
      "Principle moments of inertia amu* AA^2\n",
      "[ 8.95085504 50.02697956 55.82960964]\n"
     ]
    }
   ],
   "source": [
    "I = np.zeros(shape=(3, 3))\n",
    "for i, j in zip(mol.atoms, mol.coords):\n",
    "    I[0][0] += (masses[int(i)] *  (j[1]*j[1] + j[2]*j[2]))\n",
    "    I[1][1] += (masses[int(i)] *  (j[0]*j[0] + j[2]*j[2]))\n",
    "    I[2][2] += (masses[int(i)] *  (j[0]*j[0] + j[1]*j[1]))\n",
    "    I[0][1] -= masses[int(i)] * j[0]*j[1] \n",
    "    I[0][2] -= masses[int(i)] * j[0]*j[2] \n",
    "    I[1][2] -= masses[int(i)] * j[1]*j[2] \n",
    "\n",
    "I[1][0] = I[0][1]\n",
    "I[2][0] = I[0][2]\n",
    "I[2][1] = I[1][2]\n",
    "\n",
    "    # Off Diagonal terms \n",
    "\n",
    "print('Moment of Inertia tensor amu bohr^2')\n",
    "print(I)\n",
    "\n",
    "eigenvalue, eigenvectors = np.linalg.eigh(I)\n",
    "\n",
    "print('Principle moments of inertia amu* bohr^2')\n",
    "print(eigenvalue)\n",
    "print('Principle moments of inertia amu* AA^2')\n",
    "conv =  0.529177249 * 0.529177249\n",
    "print(eigenvalue*conv)"
   ]
  },
  {
   "cell_type": "markdown",
   "metadata": {},
   "source": [
    "# Classify the Rotors "
   ]
  },
  {
   "cell_type": "code",
   "execution_count": 13,
   "metadata": {},
   "outputs": [
    {
     "name": "stdout",
     "output_type": "stream",
     "text": [
      "Molecule is asymmetric top\n",
      "Rotational constant in cm-1\n",
      "A = 1.8834 B = 0.3370 C = 0.3019 \n"
     ]
    }
   ],
   "source": [
    "if len(mol.atoms) == 2:\n",
    "    print('Molecule is diatomic')\n",
    "elif (eigenvalue[0] < 1e-4):\n",
    "    print('Molecule is linear')\n",
    "elif (abs(eigenvalue[0] - eigenvalue[1]) < 1e-4) and (abs(eigenvalue[1] - eigenvalue[2]) < 1e-4):\n",
    "    print('Molecule is spherical top')\n",
    "elif (abs(eigenvalue[0] - eigenvalue[1]) < 1e-4) and (abs(eigenvalue[1] - eigenvalue[2]) > 1e-4):\n",
    "    print('Molecule is oblate symmetric top')\n",
    "elif (abs(eigenvalue[0] - eigenvalue[1]) > 1e-4) and (abs(eigenvalue[1] - eigenvalue[2]) < 1e-4):\n",
    "    print('Molecule is prolate symmetric top')\n",
    "else:\n",
    "    print('Molecule is asymmetric top')\n",
    "\n",
    "# Compute rotational constants \n",
    "\n",
    "factor = 6.6260755E-34/(8.0*np.pi*np.pi)\n",
    "factor /= 1.6605402E-27 * 0.529177249E-10 * 0.529177249E-10\n",
    "factor /= 2.99792458E10\n",
    "\n",
    "print('Rotational constant in cm-1')\n",
    "print(f'A = {factor/eigenvalue[0]:.4f} B = {factor/eigenvalue[1]:.4f} C = {factor/eigenvalue[2]:.4f} ')\n"
   ]
  }
 ],
 "metadata": {
  "kernelspec": {
   "display_name": "base",
   "language": "python",
   "name": "python3"
  },
  "language_info": {
   "codemirror_mode": {
    "name": "ipython",
    "version": 3
   },
   "file_extension": ".py",
   "mimetype": "text/x-python",
   "name": "python",
   "nbconvert_exporter": "python",
   "pygments_lexer": "ipython3",
   "version": "3.9.13"
  },
  "orig_nbformat": 4
 },
 "nbformat": 4,
 "nbformat_minor": 2
}
