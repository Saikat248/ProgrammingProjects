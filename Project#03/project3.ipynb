{
 "cells": [
  {
   "cell_type": "code",
   "execution_count": 1,
   "metadata": {},
   "outputs": [],
   "source": [
    "import numpy as np\n",
    "from Molecule import Molecule\n",
    "np.set_printoptions(precision=7, linewidth=120, suppress=True)\n"
   ]
  },
  {
   "cell_type": "code",
   "execution_count": 2,
   "metadata": {},
   "outputs": [],
   "source": [
    "mol = Molecule('input/h2o/STO-3G/geom.dat')\n",
    "nuclear_replusion = 'input/h2o/STO-3G/enuc.dat'\n",
    "one_electron = 'input/h2o/STO-3G/s.dat'\n",
    "kinetic_energy =  'input/h2o/STO-3G/t.dat'\n",
    "nuclear_attraction =  'input/h2o/STO-3G/v.dat'\n",
    "two_electron = 'input/h2o/STO-3G/eri.dat'\n",
    "\n",
    "\n",
    "\n",
    " "
   ]
  },
  {
   "attachments": {},
   "cell_type": "markdown",
   "metadata": {},
   "source": [
    "# Nuclear Repulsion Energy"
   ]
  },
  {
   "cell_type": "code",
   "execution_count": 3,
   "metadata": {},
   "outputs": [
    {
     "name": "stdout",
     "output_type": "stream",
     "text": [
      "Nuclear repulsion energy = 8.00236706181045\n"
     ]
    }
   ],
   "source": [
    "with open(nuclear_replusion, 'r') as fp:\n",
    "    nr = float(fp.readline().strip())\n",
    "\n",
    "print(f'Nuclear repulsion energy = {nr}')"
   ]
  },
  {
   "cell_type": "raw",
   "metadata": {},
   "source": [
    "def read_2e_intregals(intregal):\n",
    "    with open(intregal, 'r') as fp:\n",
    "        lines = fp.readlines()\n",
    "    nao = int(lines[-1].strip().split()[0])\n",
    "    matrix = np.zeros([nao, nao, nao, nao])\n",
    "    for line in lines:\n",
    "        i, j, k, l, val = line.strip().split()\n",
    "        i, j, k, l, val = int(i) - 1, int(j) - 1, int(k) - 1, int(l) - 1, float(val)\n",
    "        matrix[i][j][k][l] = matrix[i][j][l][k] = matrix[j][i][k][l] = matrix[j][i][l][k] \\\n",
    "            = matrix[k][l][i][j] = matrix[k][l][j][i] = matrix[l][k][i][j] = matrix[l][k][j][i] = val \n",
    "\n",
    "    return matrix\n",
    "\n",
    "read_2e_intregals(two_electron)\n"
   ]
  },
  {
   "cell_type": "code",
   "execution_count": 4,
   "metadata": {},
   "outputs": [
    {
     "name": "stdout",
     "output_type": "stream",
     "text": [
      "Overlap Integral = \n",
      "[[ 1.         0.2367039 -0.        -0.        -0.         0.0384056  0.0384056]\n",
      " [ 0.2367039  1.         0.        -0.         0.         0.3861388  0.3861388]\n",
      " [-0.         0.         1.        -0.         0.         0.2684382 -0.2684382]\n",
      " [-0.        -0.        -0.         1.        -0.         0.2097269  0.2097269]\n",
      " [-0.         0.         0.        -0.         1.        -0.        -0.       ]\n",
      " [ 0.0384056  0.3861388  0.2684382  0.2097269 -0.         1.         0.1817599]\n",
      " [ 0.0384056  0.3861388 -0.2684382  0.2097269 -0.         0.1817599  1.       ]]\n",
      "Kinetic Energy Integral = \n",
      "[[29.0031999 -0.1680109  0.         0.        -0.        -0.0084164 -0.0084164]\n",
      " [-0.1680109  0.808128   0.        -0.         0.         0.0705174  0.0705174]\n",
      " [ 0.         0.         2.5287312 -0.         0.         0.1470909 -0.1470909]\n",
      " [ 0.        -0.        -0.         2.5287312 -0.         0.11492    0.11492  ]\n",
      " [-0.         0.         0.        -0.         2.5287312 -0.        -0.       ]\n",
      " [-0.0084164  0.0705174  0.1470909  0.11492   -0.         0.7600319 -0.0039799]\n",
      " [-0.0084164  0.0705174 -0.1470909  0.11492   -0.        -0.0039799  0.7600319]]\n",
      "Nuclear Attraction  Integral = \n",
      "[[-61.5805954  -7.4108219   0.         -0.0144738   0.         -1.2316859  -1.2316859]\n",
      " [ -7.4108219 -10.0090712   0.         -0.1768902   0.         -2.9772272  -2.9772272]\n",
      " [  0.          0.         -9.9875505   0.         -0.         -1.8222411   1.8222411]\n",
      " [ -0.0144738  -0.1768902   0.         -9.944043    0.         -1.4717883  -1.4717883]\n",
      " [  0.          0.         -0.          0.         -9.8758761   0.          0.       ]\n",
      " [ -1.2316859  -2.9772272  -1.8222411  -1.4717883   0.         -5.300203   -1.067166 ]\n",
      " [ -1.2316859  -2.9772272   1.8222411  -1.4717883   0.         -1.067166   -5.300203 ]]\n",
      "Core Hamiltonian = \n",
      "[[-32.5773954  -7.5788328   0.         -0.0144738   0.         -1.2401023  -1.2401023]\n",
      " [ -7.5788328  -9.2009433   0.         -0.1768902   0.         -2.9067098  -2.9067098]\n",
      " [  0.          0.         -7.4588193   0.          0.         -1.6751501   1.6751501]\n",
      " [ -0.0144738  -0.1768902   0.         -7.4153118   0.         -1.3568683  -1.3568683]\n",
      " [  0.          0.          0.          0.         -7.3471449   0.          0.       ]\n",
      " [ -1.2401023  -2.9067098  -1.6751501  -1.3568683   0.         -4.5401711  -1.0711459]\n",
      " [ -1.2401023  -2.9067098   1.6751501  -1.3568683   0.         -1.0711459  -4.5401711]]\n"
     ]
    }
   ],
   "source": [
    "print('Overlap Integral = ')\n",
    "overlap_int =  mol.read_intregals(one_electron)\n",
    "print(overlap_int)\n",
    "\n",
    "print('Kinetic Energy Integral = ')\n",
    "kinetic_int =  mol.read_intregals(kinetic_energy)\n",
    "print(kinetic_int)\n",
    "\n",
    "print('Nuclear Attraction  Integral = ')\n",
    "nuclear_int =  mol.read_intregals(nuclear_attraction)\n",
    "print(nuclear_int)\n",
    "\n",
    "print('Core Hamiltonian = ')\n",
    "H_core = kinetic_int + nuclear_int\n",
    "print(H_core)"
   ]
  },
  {
   "attachments": {},
   "cell_type": "markdown",
   "metadata": {},
   "source": [
    "# Build the Orthogonal Matrix"
   ]
  },
  {
   "cell_type": "code",
   "execution_count": 5,
   "metadata": {},
   "outputs": [
    {
     "name": "stdout",
     "output_type": "stream",
     "text": [
      "The S^-1/2 matrix is = \n",
      "[[ 1.0236346 -0.1368547  0.        -0.0074873  0.         0.0190279  0.0190279]\n",
      " [-0.1368547  1.1578632 -0.         0.0721601 -0.        -0.2223326 -0.2223326]\n",
      " [ 0.        -0.         1.0733148 -0.        -0.        -0.1757583  0.1757583]\n",
      " [-0.0074873  0.0721601 -0.         1.038305  -0.        -0.1184626 -0.1184626]\n",
      " [ 0.        -0.        -0.        -0.         1.        -0.         0.       ]\n",
      " [ 0.0190279 -0.2223326 -0.1757583 -0.1184626 -0.         1.1297234 -0.0625975]\n",
      " [ 0.0190279 -0.2223326  0.1757583 -0.1184626  0.        -0.0625975  1.1297234]]\n"
     ]
    }
   ],
   "source": [
    "# Diagonalize the overlap matrix:\n",
    "eigvalue, eigvector = np.linalg.eigh(overlap_int)\n",
    "\n",
    "#Build the symmetric orthogonalization matrix using:\n",
    "\n",
    "S_ortho = eigvector @ np.diag(eigvalue**(-1/2)) @ eigvector.T\n",
    "\n",
    "print('The S^-1/2 matrix is = ')\n",
    "print(S_ortho)\n",
    "\n"
   ]
  },
  {
   "attachments": {},
   "cell_type": "markdown",
   "metadata": {},
   "source": [
    "# Build the Initial Guess Density "
   ]
  },
  {
   "cell_type": "code",
   "execution_count": 23,
   "metadata": {},
   "outputs": [
    {
     "name": "stdout",
     "output_type": "stream",
     "text": [
      "Initial Fock Matrix = \n",
      "[[-32.2545866  -2.7914909  -0.          0.008611    0.         -0.1812967  -0.1812967]\n",
      " [ -2.7914909  -8.2368891   0.         -0.2282926  -0.         -0.3857987  -0.3857987]\n",
      " [ -0.          0.         -7.542889    0.          0.         -0.1132121   0.1132121]\n",
      " [  0.008611   -0.2282926   0.         -7.4570295  -0.         -0.1102196  -0.1102196]\n",
      " [  0.         -0.          0.         -0.         -7.3471449   0.         -0.       ]\n",
      " [ -0.1812967  -0.3857987  -0.1132121  -0.1102196   0.         -4.0329547  -0.0446466]\n",
      " [ -0.1812967  -0.3857987   0.1132121  -0.1102196  -0.         -0.0446466  -4.0329547]]\n",
      "Initial C matrix: \n",
      "[[-1.0015436 -0.2336245 -0.         0.0856842 -0.        -0.0482226  0.       ]\n",
      " [ 0.0071893  1.0579388  0.        -0.3601105  0.         0.4631213 -0.       ]\n",
      " [-0.        -0.         1.0610702  0.         0.        -0.        -0.2965071]\n",
      " [ 0.0002671  0.4272843 -0.         0.9399425 -0.         0.2129401 -0.       ]\n",
      " [ 0.         0.        -0.         0.         1.        -0.         0.       ]\n",
      " [-0.0018213 -0.1492533 -0.137721  -0.0378579 -0.        -0.7807003  0.8501403]\n",
      " [-0.0018213 -0.1492533  0.137721  -0.0378579  0.        -0.7807003 -0.8501403]]\n",
      "Initial Density Matrix : \n",
      "[[ 1.0650117 -0.2852166  0.        -0.0195534 -0.         0.0334496  0.0334496]\n",
      " [-0.2852166  1.2489657 -0.         0.1135594  0.        -0.1442809 -0.1442809]\n",
      " [ 0.        -0.         1.1258701  0.        -0.        -0.1461317  0.1461317]\n",
      " [-0.0195534  0.1135594  0.         1.0660638  0.        -0.0993583 -0.0993583]\n",
      " [-0.         0.        -0.         0.         1.        -0.         0.       ]\n",
      " [ 0.0334496 -0.1442809 -0.1461317 -0.0993583 -0.         0.0426802  0.004746 ]\n",
      " [ 0.0334496 -0.1442809  0.1461317 -0.0993583  0.         0.004746   0.0426802]]\n"
     ]
    }
   ],
   "source": [
    "Fock = (S_ortho.T)@ H_core @ S_ortho\n",
    "print('Initial Fock Matrix = ')\n",
    "print(Fock)\n",
    "F_eig_value, F_eig_vector = np.linalg.eigh(Fock)\n",
    "\n",
    "\n",
    "C_0 = S_ortho @ (F_eig_vector)\n",
    "\n",
    "print('Initial C matrix: ')\n",
    "print(C_0)\n",
    "\n",
    "# Density Matrix\n",
    "\n",
    "occ = mol.occ\n",
    "C_occ = C_0[:, :5]\n",
    "# D_int = C_0[:, :5] @ C_0[:, :5].T \n",
    "D_int = np.einsum('pi,qi->pq', C_occ, C_occ, optimize=True)\n",
    "\n",
    "print('Initial Density Matrix : ')\n",
    "print(D_int)\n",
    "\n",
    "\n",
    "\n",
    "\n"
   ]
  },
  {
   "attachments": {},
   "cell_type": "markdown",
   "metadata": {},
   "source": [
    "# Compute the Inital SCF Energy"
   ]
  },
  {
   "cell_type": "code",
   "execution_count": 30,
   "metadata": {},
   "outputs": [
    {
     "name": "stdout",
     "output_type": "stream",
     "text": [
      "-121.84303146809549\n"
     ]
    }
   ],
   "source": [
    "E_0 = np.einsum('pq,pq->', (H_core + Fock), D_int, optimize=True) + nr\n",
    "\n",
    "print(E_0)\n",
    "\n"
   ]
  }
 ],
 "metadata": {
  "kernelspec": {
   "display_name": "base",
   "language": "python",
   "name": "python3"
  },
  "language_info": {
   "codemirror_mode": {
    "name": "ipython",
    "version": 3
   },
   "file_extension": ".py",
   "mimetype": "text/x-python",
   "name": "python",
   "nbconvert_exporter": "python",
   "pygments_lexer": "ipython3",
   "version": "3.7.9"
  },
  "orig_nbformat": 4,
  "vscode": {
   "interpreter": {
    "hash": "da11a72c86a1c8b5b5f9c07fde65d10fc51deecbff469b3dd4105ce7822cd925"
   }
  }
 },
 "nbformat": 4,
 "nbformat_minor": 2
}
