{
 "cells": [
  {
   "cell_type": "code",
   "execution_count": 1,
   "metadata": {},
   "outputs": [],
   "source": [
    "import numpy as np\n",
    "from Molecule import Molecule\n",
    "np.set_printoptions(precision=7, linewidth=120, suppress=True)"
   ]
  },
  {
   "cell_type": "code",
   "execution_count": 2,
   "metadata": {},
   "outputs": [
    {
     "name": "stdout",
     "output_type": "stream",
     "text": [
      "Number of Atoms : 12\n",
      "Coordinate File: \n",
      "6    0.000000    2.620659    0.000000\n",
      "6   -2.269558    1.310330    0.000000\n",
      "6   -2.269558   -1.310330    0.000000\n",
      "6    0.000000   -2.620659    0.000000\n",
      "6    2.269558   -1.310330    0.000000\n",
      "6    2.269558    1.310330    0.000000\n",
      "1   -4.041307    2.333249    0.000000\n",
      "1   -4.041307   -2.333249    0.000000\n",
      "1    0.000000   -4.666499    0.000000\n",
      "1    4.041307   -2.333249    0.000000\n",
      "1    4.041307    2.333249    0.000000\n",
      "1    0.000000    4.666499    0.000000\n",
      "[[ 0.8370476  0.         0.        ... -0.0814934  0.         0.       ]\n",
      " [ 0.         1.0278249  0.        ...  0.        -0.4748941  0.       ]\n",
      " [ 0.         0.         0.1884039 ...  0.         0.        -0.0533322]\n",
      " ...\n",
      " [-0.0814934  0.         0.        ...  0.0769669  0.         0.       ]\n",
      " [ 0.        -0.4748941  0.        ...  0.         0.4872162  0.       ]\n",
      " [ 0.         0.        -0.0533322 ...  0.         0.         0.0368569]]\n"
     ]
    }
   ],
   "source": [
    "mol = Molecule('input/benzene_geom.txt')\n",
    "mol.print_geom()\n",
    "H = mol.read_hessian('input/benzene_hessian.txt')\n",
    "print(H)\n",
    "masses = {6:12.0000000, 8:15.994914619, 1:1.00782503223}"
   ]
  },
  {
   "cell_type": "code",
   "execution_count": 3,
   "metadata": {},
   "outputs": [
    {
     "name": "stdout",
     "output_type": "stream",
     "text": [
      "[12.0, 12.0, 12.0, 12.0, 12.0, 12.0, 1.00782503223, 1.00782503223, 1.00782503223, 1.00782503223, 1.00782503223, 1.00782503223]\n"
     ]
    }
   ],
   "source": [
    "atomic_mass_lst = [masses[int(i)] for i in mol.atoms]\n",
    "print(atomic_mass_lst)"
   ]
  },
  {
   "attachments": {},
   "cell_type": "markdown",
   "metadata": {},
   "source": [
    "# Mass-Weight the Hessian Matrix"
   ]
  },
  {
   "cell_type": "code",
   "execution_count": 4,
   "metadata": {},
   "outputs": [
    {
     "name": "stdout",
     "output_type": "stream",
     "text": [
      "Nrows 36 NColumns 36 in hessian the matrix\n",
      "Mass Weighted Hessian Matrix is : \n",
      "[[ 0.069754   0.         0.        ... -0.0234336  0.         0.       ]\n",
      " [ 0.         0.0856521  0.        ...  0.        -0.1365569  0.       ]\n",
      " [ 0.         0.         0.0157003 ...  0.         0.        -0.0153358]\n",
      " ...\n",
      " [-0.0234336  0.         0.        ...  0.0763693  0.         0.       ]\n",
      " [ 0.        -0.1365569  0.        ...  0.         0.4834333  0.       ]\n",
      " [ 0.         0.        -0.0153358 ...  0.         0.         0.0365708]]\n"
     ]
    }
   ],
   "source": [
    "H_mw = H.copy()\n",
    "\n",
    "nrows, ncols = H_mw.shape\n",
    "\n",
    "print(f'Nrows {nrows} NColumns {ncols} in hessian the matrix')\n",
    "\n",
    "# New atom switches after each three atom as total number of atom is 3 for water \n",
    "\n",
    "for i in range(nrows):\n",
    "    for j in range(ncols):\n",
    "        denom = np.sqrt(atomic_mass_lst[np.floor_divide(i, 3)] * atomic_mass_lst[np.floor_divide(j, 3)])\n",
    "        H_mw[i, j] /= denom\n",
    "\n",
    "print('Mass Weighted Hessian Matrix is : ')\n",
    "print(H_mw)\n"
   ]
  },
  {
   "attachments": {},
   "cell_type": "markdown",
   "metadata": {},
   "source": [
    "# Diagonalize the Mass-Weighted Hessian Matrix"
   ]
  },
  {
   "cell_type": "code",
   "execution_count": 5,
   "metadata": {},
   "outputs": [
    {
     "name": "stdout",
     "output_type": "stream",
     "text": [
      "Eigen values of the Mass weighted Hessian Matrix are\n",
      "0       -0.0000000000\n",
      "1       -0.0000000000\n",
      "2        0.0000000000\n",
      "3        0.0000000169\n",
      "4        0.0000000169\n",
      "5        0.0000000170\n",
      "6        0.0086494098\n",
      "7        0.0086494098\n",
      "8        0.0185522333\n",
      "9        0.0185522333\n",
      "10        0.0248951017\n",
      "11        0.0267799113\n",
      "12        0.0407588947\n",
      "13        0.0407588947\n",
      "14        0.0504228693\n",
      "15        0.0506351704\n",
      "16        0.0520195116\n",
      "17        0.0536487991\n",
      "18        0.0536487991\n",
      "19        0.0558373300\n",
      "20        0.0568687590\n",
      "21        0.0568687590\n",
      "22        0.0711678903\n",
      "23        0.0711678903\n",
      "24        0.0717564404\n",
      "25        0.0963092288\n",
      "26        0.1189063704\n",
      "27        0.1189063705\n",
      "28        0.1413237669\n",
      "29        0.1413237669\n",
      "30        0.5193179971\n",
      "31        0.5244972587\n",
      "32        0.5244972589\n",
      "33        0.5283614145\n",
      "34        0.5283614145\n",
      "35        0.5314353548\n"
     ]
    }
   ],
   "source": [
    "eigenvalues, eigenvector = np.linalg.eigh(H_mw)\n",
    "\n",
    "print('Eigen values of the Mass weighted Hessian Matrix are')\n",
    "for i in range(len(eigenvalues)):\n",
    "    print(f'{i}{eigenvalues[i]:20.10f}')"
   ]
  },
  {
   "attachments": {},
   "cell_type": "markdown",
   "metadata": {},
   "source": [
    "# Compute the Harmonic Vibrational Frequencies"
   ]
  },
  {
   "cell_type": "code",
   "execution_count": 7,
   "metadata": {},
   "outputs": [
    {
     "name": "stdout",
     "output_type": "stream",
     "text": [
      "0.0000\n",
      "0.0000\n",
      "0.0247\n",
      "0.6683\n",
      "0.6683\n",
      "0.6694\n",
      "478.0766\n",
      "478.0766\n",
      "700.1682\n",
      "700.1682\n",
      "811.0754\n",
      "841.2186\n",
      "1037.8043\n",
      "1037.8043\n",
      "1154.2983\n",
      "1156.7258\n",
      "1172.4313\n",
      "1190.6504\n",
      "1190.6504\n",
      "1214.6932\n",
      "1225.8608\n",
      "1225.8608\n",
      "1371.3437\n",
      "1371.3437\n",
      "1377.0025\n",
      "1595.2848\n",
      "1772.5841\n",
      "1772.5841\n",
      "1932.4661\n",
      "1932.4661\n",
      "3704.4263\n",
      "3722.8530\n",
      "3722.8530\n",
      "3736.5416\n",
      "3736.5416\n",
      "3747.3952\n"
     ]
    }
   ],
   "source": [
    "from scipy.constants import physical_constants\n",
    "from numpy.lib.scimath import sqrt as csqrt\n",
    "c = physical_constants['speed of light in vacuum'][0]\n",
    "N_A = physical_constants['Avogadro constant'][0]\n",
    "E_h = physical_constants[\"Hartree energy\"][0]\n",
    "bohr2m = physical_constants[\"Bohr radius\"][0]\n",
    "\n",
    "vib_constant = np.sqrt((N_A*E_h*1000)/(bohr2m*bohr2m))/(2*np.pi*c*100)\n",
    "\n",
    "# print(vib_constant)\n",
    "\n",
    "# Making any -ve number to postive for the frequency calculation\n",
    "\n",
    "vib_frequencies = csqrt((eigenvalues)) * vib_constant\n",
    "\n",
    "for i in vib_frequencies.real:\n",
    "    print(f'{i:.4f}')\n"
   ]
  }
 ],
 "metadata": {
  "kernelspec": {
   "display_name": "Python 3 (ipykernel)",
   "language": "python",
   "name": "python3"
  },
  "language_info": {
   "codemirror_mode": {
    "name": "ipython",
    "version": 3
   },
   "file_extension": ".py",
   "mimetype": "text/x-python",
   "name": "python",
   "nbconvert_exporter": "python",
   "pygments_lexer": "ipython3",
   "version": "3.9.13"
  }
 },
 "nbformat": 4,
 "nbformat_minor": 2
}
